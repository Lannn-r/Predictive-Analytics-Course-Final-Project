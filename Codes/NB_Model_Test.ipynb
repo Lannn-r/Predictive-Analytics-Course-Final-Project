{
  "metadata": {
    "language_info": {
      "codemirror_mode": {
        "name": "python",
        "version": 3
      },
      "file_extension": ".py",
      "mimetype": "text/x-python",
      "name": "python",
      "nbconvert_exporter": "python",
      "pygments_lexer": "ipython3",
      "version": "3.8"
    },
    "kernelspec": {
      "name": "python",
      "display_name": "Python (Pyodide)",
      "language": "python"
    }
  },
  "nbformat_minor": 4,
  "nbformat": 4,
  "cells": [
    {
      "cell_type": "code",
      "source": "import pandas as pd\nimport numpy as np\nimport seaborn as sns\nimport matplotlib.pyplot as plt\nfrom sklearn.metrics import confusion_matrix\nfrom sklearn.metrics import accuracy_score\nfrom scipy.sparse import csr_matrix\nfrom sklearn.metrics import confusion_matrix\nfrom IPython.display import Image\nfrom sklearn.metrics import classification_report\nfrom sklearn.model_selection import train_test_split\nfrom sklearn.preprocessing import MinMaxScaler\nfrom sklearn.naive_bayes import BernoulliNB, ComplementNB, MultinomialNB, GaussianNB\nfrom sklearn import metrics\nfrom sklearn.utils import resample",
      "metadata": {},
      "execution_count": null,
      "outputs": []
    },
    {
      "cell_type": "code",
      "source": "df = pd.read_csv(\"Cleaned_data_dummy_version_final.csv\")\ndf.head()",
      "metadata": {},
      "execution_count": null,
      "outputs": []
    },
    {
      "cell_type": "code",
      "source": "## Normalize\ny = df[\"Price\"]\nX = df.drop(columns=[\"Price\"])\nscaler = MinMaxScaler()\nX = pd.DataFrame(scaler.fit_transform(X),columns= X.columns)\nX_train, X_test, y_train, y_test = train_test_split(X, y, test_size = 0.2, random_state=240)",
      "metadata": {},
      "execution_count": null,
      "outputs": []
    },
    {
      "cell_type": "code",
      "source": "def create_cm(t1, t2):\n    cm = confusion_matrix(t1, t2)\n    plt.matshow(cm)\n    plt.title('Confusion matrix')\n    plt.colorbar()\n    plt.ylabel('True label')\n    plt.xlabel('Predicted label')\n    plt.show()\nX_train",
      "metadata": {},
      "execution_count": null,
      "outputs": []
    },
    {
      "cell_type": "code",
      "source": "## Oversampling Minority\ndf[\"Price\"].value_counts()",
      "metadata": {},
      "execution_count": null,
      "outputs": []
    },
    {
      "cell_type": "code",
      "source": "#combine our training info back together for now\nX =X_train\nX['Price'] = y_train\n\n# separate minority and majority classes\nnot_churn = X[X['Price']==1] #majority\nchurn = X[X['Price']==0] #minority\nchurn_2 = X[X['Price']==2] #minority\n\nprint(not_churn.shape)\nprint(churn.shape)\nprint(churn_2.shape)",
      "metadata": {},
      "execution_count": null,
      "outputs": []
    },
    {
      "cell_type": "code",
      "source": "# upsample minority\nchurn_upsampled = resample(churn, replace=True, # sample with replacement\n                           n_samples=len(not_churn), # match number in majority class\n                           random_state=27) # reproducible results\n\nchurn_upsampled_2 = resample(churn_2, replace=True, # sample with replacement\n                           n_samples=len(not_churn), # match number in majority class\n                           random_state=27) # reproducible results\n\n# combine majority and upsampled minority\nupsampled = pd.concat([not_churn, churn_upsampled, churn_upsampled_2])\n\n# check new class counts\nupsampled['Price'].value_counts()",
      "metadata": {},
      "execution_count": null,
      "outputs": []
    },
    {
      "cell_type": "code",
      "source": "# split our X and y back out\ny_train_over = upsampled['Price']\nX_train_over = upsampled.drop('Price', axis=1)",
      "metadata": {},
      "execution_count": null,
      "outputs": []
    },
    {
      "cell_type": "code",
      "source": "## Undersample Majority\nX =X_train\nX['Price'] = y_train\n\nnot_churn = X[X['Price']==1]\nchurn = X[X['Price']==0]\nchurn_2 = X[X['Price']==2]\nprint(not_churn.shape)\nprint(churn.shape)\nprint(len(not_churn))",
      "metadata": {},
      "execution_count": null,
      "outputs": []
    },
    {
      "cell_type": "code",
      "source": "not_churn_downsampled = resample(not_churn,\n                                replace = False, # sample without replacement\n                                #n_samples = len(churn), # match minority n\n                                n_samples = len(churn), # create 2:1 ratio\n                                random_state = 27) # reproducible results\n\n# combine minority and downsampled majority\ndownsampled = pd.concat([not_churn_downsampled,churn_2, churn])\n\n# checking counts\ndownsampled['Price'].value_counts()",
      "metadata": {},
      "execution_count": null,
      "outputs": []
    },
    {
      "cell_type": "code",
      "source": "y_train_under = downsampled['Price']\nX_train_under = downsampled.drop('Price', axis=1)\nX_train_under",
      "metadata": {},
      "execution_count": null,
      "outputs": []
    },
    {
      "cell_type": "code",
      "source": "##NB Model\n###No imbalace process\nX_train = X_train.drop(columns=['Price'])\nmodel = MultinomialNB()\nmodel.fit(X_train, y_train)\n\nNBnews_predicted = model.predict(X_test)\n\nprint(model.score(X_test, y_test))\nprint(classification_report(y_test, NBnews_predicted))\ncreate_cm(y_test, NBnews_predicted)\n",
      "metadata": {},
      "execution_count": null,
      "outputs": []
    },
    {
      "cell_type": "code",
      "source": "### NB - Undersample\nmodel = MultinomialNB()\nmodel.fit(X_train_under, y_train_under)\n\nNBnews_predicted = model.predict(X_test)\n\nprint(model.score(X_test, y_test))\nprint(classification_report(y_test, NBnews_predicted))\ncreate_cm(y_test, NBnews_predicted)",
      "metadata": {},
      "execution_count": null,
      "outputs": []
    },
    {
      "cell_type": "code",
      "source": "### NB - Oversample\nmodel = MultinomialNB()\nmodel.fit(X_train_over, y_train_over)\n\nNBnews_predicted = model.predict(X_test)\n\nprint(model.score(X_test, y_test))\nprint(classification_report(y_test, NBnews_predicted))\ncreate_cm(y_test, NBnews_predicted)",
      "metadata": {},
      "execution_count": null,
      "outputs": []
    }
  ]
}