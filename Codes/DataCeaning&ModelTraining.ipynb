{
  "metadata": {
    "language_info": {
      "codemirror_mode": {
        "name": "python",
        "version": 3
      },
      "file_extension": ".py",
      "mimetype": "text/x-python",
      "name": "python",
      "nbconvert_exporter": "python",
      "pygments_lexer": "ipython3",
      "version": "3.8"
    },
    "kernelspec": {
      "name": "python",
      "display_name": "Python (Pyodide)",
      "language": "python"
    }
  },
  "nbformat_minor": 4,
  "nbformat": 4,
  "cells": [
    {
      "cell_type": "code",
      "source": "import pandas as pd\nimport numpy as np\nimport seaborn as sns\nimport matplotlib.pyplot as plt\nfrom sklearn.metrics import confusion_matrix\nfrom sklearn.metrics import accuracy_score\nfrom scipy.sparse import csr_matrix\nfrom sklearn.metrics import confusion_matrix\nfrom IPython.display import Image\nfrom sklearn.metrics import classification_report\nfrom sklearn.model_selection import train_test_split\nfrom sklearn.naive_bayes import BernoulliNB, ComplementNB, MultinomialNB, GaussianNB\nfrom sklearn.linear_model import LogisticRegressionCV\nfrom sklearn.preprocessing import MinMaxScaler",
      "metadata": {},
      "execution_count": null,
      "outputs": []
    },
    {
      "cell_type": "code",
      "source": "df = pd.read_csv(\"Melbourne_housing_FULL.csv\")",
      "metadata": {},
      "execution_count": null,
      "outputs": []
    },
    {
      "cell_type": "code",
      "source": "## Original Dataset Description and Null Value Sum",
      "metadata": {},
      "execution_count": null,
      "outputs": []
    },
    {
      "cell_type": "code",
      "source": "df.iloc[11]",
      "metadata": {},
      "execution_count": null,
      "outputs": []
    },
    {
      "cell_type": "code",
      "source": "df.isnull().sum()",
      "metadata": {},
      "execution_count": null,
      "outputs": []
    },
    {
      "cell_type": "code",
      "source": "## Missing Value",
      "metadata": {},
      "execution_count": null,
      "outputs": []
    },
    {
      "cell_type": "code",
      "source": "# make copy of the original dataset\ndf_new = df.copy()",
      "metadata": {},
      "execution_count": null,
      "outputs": []
    },
    {
      "cell_type": "code",
      "source": "### Solution 1: Drop Top 2 Missed Variable, then drop all rows with missing value\ndf_new = df_new.drop(columns=[\"YearBuilt\"]) df_new = df_new.drop(columns=[\"BuildingArea\"]) df_new = df_new.dropna() df_new.isnull().sum()\nlen(df_new)\n\n### Solution 2: Just Drop All Rows With Missing Value\ndf_new = df_new.dropna()\ndf_new.isnull().sum()\nlen(df_new)",
      "metadata": {},
      "execution_count": null,
      "outputs": []
    },
    {
      "cell_type": "code",
      "source": "## Drop All Meaningless Variable\ndf_new = df_new.drop(columns=['Address', 'SellerG', 'Date','Postcode'])\ndf_new = df_new.drop(columns=['Lattitude','Longtitude'])\ndf_new = df_new.drop(columns=['Regionname','CouncilArea','Suburb'])\ndf_new.head()",
      "metadata": {},
      "execution_count": null,
      "outputs": []
    },
    {
      "cell_type": "code",
      "source": "## Drop Outliers and Invalid Value\ndf_new.describe().round(2)",
      "metadata": {},
      "execution_count": null,
      "outputs": []
    },
    {
      "cell_type": "code",
      "source": "### Drop Landsize = 0 , BuildingArea = 0\ndf_new = df_new.drop(df_new[df_new[\"Landsize\"] == 0].index)\ndf_new = df_new.drop(df_new[df_new[\"BuildingArea\"] == 0].index)\ndf_new.describe().round(2)\n\n### Drop BuildingArea > 2500\nsns.boxplot(x=df_new['BuildingArea'])\ndf_new = df_new[df_new[\"BuildingArea\"]<2500]",
      "metadata": {},
      "execution_count": null,
      "outputs": []
    },
    {
      "cell_type": "code",
      "source": "## Encoding text categorical data\n### Label Encoding\ntype_dic = df_new[\"Type\"].unique().tolist()\ndf_new[\"Type\"] = df_new[\"Type\"].apply(lambda x : type_dic.index(x))\n\nmethod_dic = df_new[\"Method\"].unique().tolist()\ndf_new[\"Method\"] = df_new[\"Method\"].apply(lambda x : method_dic.index(x))\ndf_new.head()",
      "metadata": {},
      "execution_count": null,
      "outputs": []
    },
    {
      "cell_type": "code",
      "source": "### Target Variable Bins\n#ranges = [0,250000,600000,1000000,1800000,10000000]\n#ranges = [0,250000,600000,1000000,1800000,3000000,10000000]\nranges = [0,600000,1800000,10000000]\ndf_new['Price']= pd.cut(df_new.Price, ranges, labels = False)\ndf_new\ndf_new[\"Price\"].value_counts()\n\na = pd.Series([1208,5590,1028])\na.plot.bar()\n\ndf_new.corr().round(2)\ndf_new.to_csv(\"Cleaned_data_Label_Encoding_version_final.csv\",index=False\n",
      "metadata": {},
      "execution_count": null,
      "outputs": []
    },
    {
      "cell_type": "code",
      "source": "## Train_Test & Target Data & Normalization\ny = df_new[\"Price\"]\nX = df_new.drop(columns=[\"Price\"])\nscaler = MinMaxScaler()\nX = pd.DataFrame(scaler.fit_transform(X),columns=['Rooms', 'Distance', 'Bedroom2', 'Bathroom', 'Car', 'Landsize',\n       'BuildingArea', 'YearBuilt', 'Propertycount', 'Type_h', 'Type_t',\n       'Type_u', 'Method_PI', 'Method_S', 'Method_SA', 'Method_SP',\n       'Method_VB'])\nX_train, X_test, y_train, y_test = train_test_split(X, y, test_size = 0.2, random_state=240)\nX",
      "metadata": {},
      "execution_count": null,
      "outputs": []
    },
    {
      "cell_type": "code",
      "source": "## Model Test\ndef create_cm(t1, t2):\n    cm = confusion_matrix(t1, t2)\n    plt.matshow(cm)\n    plt.title('Confusion matrix')\n    plt.colorbar()\n    plt.ylabel('True label')\n    plt.xlabel('Predicted label')\n    plt.show()\nmodel = LogisticRegressionCV(cv = 5, random_state = 265, max_iter = 1000, n_jobs = -1, solver='sag').fit(X_train, y_train)\nmodel.fit(X_train, y_train)\n\nNBnews_predicted = model.predict(X_test)\n\nprint(model.score(X_test, y_test))\nprint(classification_report(y_test, NBnews_predicted))\ncreate_cm(y_test, NBnews_predicted)",
      "metadata": {},
      "execution_count": null,
      "outputs": []
    },
    {
      "cell_type": "code",
      "source": "#BernoulliNB, ComplementNB, MultinomialNB, GaussianNB\nmodel = MultinomialNB()\nmodel.fit(X_train, y_train)\n\nNBnews_predicted = model.predict(X_test)\n\nprint(model.score(X_test, y_test))\nprint(classification_report(y_test, NBnews_predicted))\ncreate_cm(y_test, NBnews_predicted)",
      "metadata": {},
      "execution_count": null,
      "outputs": []
    }
  ]
}